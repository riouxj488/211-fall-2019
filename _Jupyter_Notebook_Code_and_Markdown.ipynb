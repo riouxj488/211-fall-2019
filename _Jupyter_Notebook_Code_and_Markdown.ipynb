{
  "nbformat": 4,
  "nbformat_minor": 0,
  "metadata": {
    "colab": {
      "name": "_Jupyter Notebook - Code and Markdown.ipynb",
      "provenance": [],
      "collapsed_sections": [],
      "authorship_tag": "ABX9TyPOxHsILB08l6+DtjuzqQT+",
      "include_colab_link": true
    },
    "kernelspec": {
      "name": "python3",
      "display_name": "Python 3"
    }
  },
  "cells": [
    {
      "cell_type": "markdown",
      "metadata": {
        "id": "view-in-github",
        "colab_type": "text"
      },
      "source": [
        "<a href=\"https://colab.research.google.com/github/riouxj488/211-fall-2019/blob/master/_Jupyter_Notebook_Code_and_Markdown.ipynb\" target=\"_parent\"><img src=\"https://colab.research.google.com/assets/colab-badge.svg\" alt=\"Open In Colab\"/></a>"
      ]
    },
    {
      "cell_type": "code",
      "metadata": {
        "id": "0aoGsGiwuDJy",
        "colab_type": "code",
        "colab": {
          "base_uri": "https://localhost:8080/",
          "height": 34
        },
        "outputId": "7c00be73-82d0-48f6-dffb-48ac8ef89909"
      },
      "source": [
        "try:\n",
        "    from google.colab import drive\n",
        "    import sys\n",
        "    \n",
        "    drive.mount('/content/drive')\n",
        "    notes_home = \"/content/drive/My Drive/CSC310/notes/\"\n",
        "    user_home = \"/content/drive/My Drive/\"\n",
        "    \n",
        "    sys.path.insert(1,notes_home)\n",
        "\n",
        "except ModuleNotFoundError:\n",
        "    notes_home = \"\""
      ],
      "execution_count": null,
      "outputs": [
        {
          "output_type": "stream",
          "text": [
            "Mounted at /content/drive\n"
          ],
          "name": "stdout"
        }
      ]
    },
    {
      "cell_type": "code",
      "metadata": {
        "id": "J5uXpy9x2hyK",
        "colab_type": "code",
        "colab": {
          "base_uri": "https://localhost:8080/",
          "height": 419
        },
        "outputId": "b71fda53-538d-413f-d9f0-f6bd0e199a19"
      },
      "source": [
        "import pandas\n",
        "\n",
        "health_dt = pandas.read_csv(notes_home+\"HealthInsurance.csv\")\n",
        "\n",
        "health_dt"
      ],
      "execution_count": null,
      "outputs": [
        {
          "output_type": "execute_result",
          "data": {
            "text/html": [
              "<div>\n",
              "<style scoped>\n",
              "    .dataframe tbody tr th:only-of-type {\n",
              "        vertical-align: middle;\n",
              "    }\n",
              "\n",
              "    .dataframe tbody tr th {\n",
              "        vertical-align: top;\n",
              "    }\n",
              "\n",
              "    .dataframe thead th {\n",
              "        text-align: right;\n",
              "    }\n",
              "</style>\n",
              "<table border=\"1\" class=\"dataframe\">\n",
              "  <thead>\n",
              "    <tr style=\"text-align: right;\">\n",
              "      <th></th>\n",
              "      <th>Unnamed: 0</th>\n",
              "      <th>health</th>\n",
              "      <th>age</th>\n",
              "      <th>limit</th>\n",
              "      <th>gender</th>\n",
              "      <th>insurance</th>\n",
              "      <th>married</th>\n",
              "      <th>selfemp</th>\n",
              "      <th>family</th>\n",
              "      <th>region</th>\n",
              "      <th>ethnicity</th>\n",
              "      <th>education</th>\n",
              "    </tr>\n",
              "  </thead>\n",
              "  <tbody>\n",
              "    <tr>\n",
              "      <th>0</th>\n",
              "      <td>1</td>\n",
              "      <td>yes</td>\n",
              "      <td>31</td>\n",
              "      <td>no</td>\n",
              "      <td>male</td>\n",
              "      <td>yes</td>\n",
              "      <td>yes</td>\n",
              "      <td>yes</td>\n",
              "      <td>4</td>\n",
              "      <td>south</td>\n",
              "      <td>cauc</td>\n",
              "      <td>bachelor</td>\n",
              "    </tr>\n",
              "    <tr>\n",
              "      <th>1</th>\n",
              "      <td>2</td>\n",
              "      <td>yes</td>\n",
              "      <td>31</td>\n",
              "      <td>no</td>\n",
              "      <td>female</td>\n",
              "      <td>yes</td>\n",
              "      <td>yes</td>\n",
              "      <td>no</td>\n",
              "      <td>4</td>\n",
              "      <td>south</td>\n",
              "      <td>cauc</td>\n",
              "      <td>highschool</td>\n",
              "    </tr>\n",
              "    <tr>\n",
              "      <th>2</th>\n",
              "      <td>3</td>\n",
              "      <td>yes</td>\n",
              "      <td>54</td>\n",
              "      <td>no</td>\n",
              "      <td>male</td>\n",
              "      <td>yes</td>\n",
              "      <td>yes</td>\n",
              "      <td>no</td>\n",
              "      <td>5</td>\n",
              "      <td>west</td>\n",
              "      <td>cauc</td>\n",
              "      <td>ged</td>\n",
              "    </tr>\n",
              "    <tr>\n",
              "      <th>3</th>\n",
              "      <td>4</td>\n",
              "      <td>yes</td>\n",
              "      <td>27</td>\n",
              "      <td>no</td>\n",
              "      <td>male</td>\n",
              "      <td>yes</td>\n",
              "      <td>no</td>\n",
              "      <td>no</td>\n",
              "      <td>5</td>\n",
              "      <td>west</td>\n",
              "      <td>cauc</td>\n",
              "      <td>highschool</td>\n",
              "    </tr>\n",
              "    <tr>\n",
              "      <th>4</th>\n",
              "      <td>5</td>\n",
              "      <td>yes</td>\n",
              "      <td>39</td>\n",
              "      <td>no</td>\n",
              "      <td>male</td>\n",
              "      <td>yes</td>\n",
              "      <td>yes</td>\n",
              "      <td>no</td>\n",
              "      <td>5</td>\n",
              "      <td>west</td>\n",
              "      <td>cauc</td>\n",
              "      <td>none</td>\n",
              "    </tr>\n",
              "    <tr>\n",
              "      <th>...</th>\n",
              "      <td>...</td>\n",
              "      <td>...</td>\n",
              "      <td>...</td>\n",
              "      <td>...</td>\n",
              "      <td>...</td>\n",
              "      <td>...</td>\n",
              "      <td>...</td>\n",
              "      <td>...</td>\n",
              "      <td>...</td>\n",
              "      <td>...</td>\n",
              "      <td>...</td>\n",
              "      <td>...</td>\n",
              "    </tr>\n",
              "    <tr>\n",
              "      <th>8797</th>\n",
              "      <td>8798</td>\n",
              "      <td>yes</td>\n",
              "      <td>46</td>\n",
              "      <td>no</td>\n",
              "      <td>female</td>\n",
              "      <td>yes</td>\n",
              "      <td>yes</td>\n",
              "      <td>no</td>\n",
              "      <td>3</td>\n",
              "      <td>northeast</td>\n",
              "      <td>cauc</td>\n",
              "      <td>highschool</td>\n",
              "    </tr>\n",
              "    <tr>\n",
              "      <th>8798</th>\n",
              "      <td>8799</td>\n",
              "      <td>yes</td>\n",
              "      <td>50</td>\n",
              "      <td>no</td>\n",
              "      <td>male</td>\n",
              "      <td>yes</td>\n",
              "      <td>yes</td>\n",
              "      <td>no</td>\n",
              "      <td>3</td>\n",
              "      <td>northeast</td>\n",
              "      <td>cauc</td>\n",
              "      <td>highschool</td>\n",
              "    </tr>\n",
              "    <tr>\n",
              "      <th>8799</th>\n",
              "      <td>8800</td>\n",
              "      <td>yes</td>\n",
              "      <td>27</td>\n",
              "      <td>no</td>\n",
              "      <td>male</td>\n",
              "      <td>yes</td>\n",
              "      <td>yes</td>\n",
              "      <td>no</td>\n",
              "      <td>2</td>\n",
              "      <td>south</td>\n",
              "      <td>cauc</td>\n",
              "      <td>bachelor</td>\n",
              "    </tr>\n",
              "    <tr>\n",
              "      <th>8800</th>\n",
              "      <td>8801</td>\n",
              "      <td>yes</td>\n",
              "      <td>27</td>\n",
              "      <td>no</td>\n",
              "      <td>female</td>\n",
              "      <td>yes</td>\n",
              "      <td>yes</td>\n",
              "      <td>no</td>\n",
              "      <td>2</td>\n",
              "      <td>south</td>\n",
              "      <td>cauc</td>\n",
              "      <td>bachelor</td>\n",
              "    </tr>\n",
              "    <tr>\n",
              "      <th>8801</th>\n",
              "      <td>8802</td>\n",
              "      <td>yes</td>\n",
              "      <td>35</td>\n",
              "      <td>no</td>\n",
              "      <td>male</td>\n",
              "      <td>yes</td>\n",
              "      <td>yes</td>\n",
              "      <td>no</td>\n",
              "      <td>4</td>\n",
              "      <td>northeast</td>\n",
              "      <td>cauc</td>\n",
              "      <td>phd</td>\n",
              "    </tr>\n",
              "  </tbody>\n",
              "</table>\n",
              "<p>8802 rows × 12 columns</p>\n",
              "</div>"
            ],
            "text/plain": [
              "      Unnamed: 0 health  age limit  ... family     region ethnicity   education\n",
              "0              1    yes   31    no  ...      4      south      cauc    bachelor\n",
              "1              2    yes   31    no  ...      4      south      cauc  highschool\n",
              "2              3    yes   54    no  ...      5       west      cauc         ged\n",
              "3              4    yes   27    no  ...      5       west      cauc  highschool\n",
              "4              5    yes   39    no  ...      5       west      cauc        none\n",
              "...          ...    ...  ...   ...  ...    ...        ...       ...         ...\n",
              "8797        8798    yes   46    no  ...      3  northeast      cauc  highschool\n",
              "8798        8799    yes   50    no  ...      3  northeast      cauc  highschool\n",
              "8799        8800    yes   27    no  ...      2      south      cauc    bachelor\n",
              "8800        8801    yes   27    no  ...      2      south      cauc    bachelor\n",
              "8801        8802    yes   35    no  ...      4  northeast      cauc         phd\n",
              "\n",
              "[8802 rows x 12 columns]"
            ]
          },
          "metadata": {
            "tags": []
          },
          "execution_count": 7
        }
      ]
    },
    {
      "cell_type": "markdown",
      "metadata": {
        "id": "yGbDYWv3Fuxm",
        "colab_type": "text"
      },
      "source": [
        "This data set has 8802 rows and 12 columns. The columns are both categorical, like gender, region, and education as well numerical, such as age and family. The unnamed doesn’t provide any information about the subject; it is just utilized to assign a number to the person the information is about, as opposed to using that person’s name. \n"
      ]
    },
    {
      "cell_type": "code",
      "metadata": {
        "id": "FAfhqP2WWRT4",
        "colab_type": "code",
        "colab": {
          "base_uri": "https://localhost:8080/",
          "height": 51
        },
        "outputId": "0366a007-49f7-4028-e786-8287a634c3b4"
      },
      "source": [
        "health_dt['health'].mode()"
      ],
      "execution_count": null,
      "outputs": [
        {
          "output_type": "execute_result",
          "data": {
            "text/plain": [
              "0    yes\n",
              "dtype: object"
            ]
          },
          "metadata": {
            "tags": []
          },
          "execution_count": 72
        }
      ]
    },
    {
      "cell_type": "code",
      "metadata": {
        "id": "Mq-wz5QkYG4v",
        "colab_type": "code",
        "colab": {
          "base_uri": "https://localhost:8080/",
          "height": 51
        },
        "outputId": "4b3b4150-9bf0-490d-8cb5-72851a79eb31"
      },
      "source": [
        "health_dt['limit'].mode()"
      ],
      "execution_count": null,
      "outputs": [
        {
          "output_type": "execute_result",
          "data": {
            "text/plain": [
              "0    no\n",
              "dtype: object"
            ]
          },
          "metadata": {
            "tags": []
          },
          "execution_count": 73
        }
      ]
    },
    {
      "cell_type": "code",
      "metadata": {
        "id": "l0zrwxOoYNIW",
        "colab_type": "code",
        "colab": {
          "base_uri": "https://localhost:8080/",
          "height": 51
        },
        "outputId": "f8a479f3-9402-42bc-956b-c5d97a528fd7"
      },
      "source": [
        "health_dt['gender'].mode()"
      ],
      "execution_count": null,
      "outputs": [
        {
          "output_type": "execute_result",
          "data": {
            "text/plain": [
              "0    male\n",
              "dtype: object"
            ]
          },
          "metadata": {
            "tags": []
          },
          "execution_count": 74
        }
      ]
    },
    {
      "cell_type": "code",
      "metadata": {
        "id": "Q3xqACiqYuAo",
        "colab_type": "code",
        "colab": {
          "base_uri": "https://localhost:8080/",
          "height": 51
        },
        "outputId": "80359521-30e1-4d8a-fe54-deb4b34c0924"
      },
      "source": [
        "health_dt['insurance'].mode()"
      ],
      "execution_count": null,
      "outputs": [
        {
          "output_type": "execute_result",
          "data": {
            "text/plain": [
              "0    yes\n",
              "dtype: object"
            ]
          },
          "metadata": {
            "tags": []
          },
          "execution_count": 75
        }
      ]
    },
    {
      "cell_type": "code",
      "metadata": {
        "id": "g4RkpryNYy4m",
        "colab_type": "code",
        "colab": {
          "base_uri": "https://localhost:8080/",
          "height": 51
        },
        "outputId": "5ac02cfb-0b02-4701-b46c-726c4e014cde"
      },
      "source": [
        "health_dt['married'].mode()"
      ],
      "execution_count": null,
      "outputs": [
        {
          "output_type": "execute_result",
          "data": {
            "text/plain": [
              "0    yes\n",
              "dtype: object"
            ]
          },
          "metadata": {
            "tags": []
          },
          "execution_count": 76
        }
      ]
    },
    {
      "cell_type": "code",
      "metadata": {
        "id": "iVbMdkOJZDpT",
        "colab_type": "code",
        "colab": {
          "base_uri": "https://localhost:8080/",
          "height": 51
        },
        "outputId": "e312a81a-d37b-4d02-d6e1-45df4e20fe4d"
      },
      "source": [
        "health_dt['selfemp'].mode()"
      ],
      "execution_count": null,
      "outputs": [
        {
          "output_type": "execute_result",
          "data": {
            "text/plain": [
              "0    no\n",
              "dtype: object"
            ]
          },
          "metadata": {
            "tags": []
          },
          "execution_count": 77
        }
      ]
    },
    {
      "cell_type": "code",
      "metadata": {
        "id": "UjDkD8dIZJMk",
        "colab_type": "code",
        "colab": {
          "base_uri": "https://localhost:8080/",
          "height": 51
        },
        "outputId": "1e8e2ac8-ba0c-4e13-c251-231ab88ff1e2"
      },
      "source": [
        "health_dt['region'].mode()"
      ],
      "execution_count": null,
      "outputs": [
        {
          "output_type": "execute_result",
          "data": {
            "text/plain": [
              "0    south\n",
              "dtype: object"
            ]
          },
          "metadata": {
            "tags": []
          },
          "execution_count": 78
        }
      ]
    },
    {
      "cell_type": "code",
      "metadata": {
        "id": "n3y--L1zZ0Fr",
        "colab_type": "code",
        "colab": {
          "base_uri": "https://localhost:8080/",
          "height": 51
        },
        "outputId": "9132b241-2578-4ea9-f88d-8d5f01e98d5d"
      },
      "source": [
        "health_dt['ethnicity'].mode()"
      ],
      "execution_count": null,
      "outputs": [
        {
          "output_type": "execute_result",
          "data": {
            "text/plain": [
              "0    cauc\n",
              "dtype: object"
            ]
          },
          "metadata": {
            "tags": []
          },
          "execution_count": 79
        }
      ]
    },
    {
      "cell_type": "code",
      "metadata": {
        "id": "F2Bmq741aDlM",
        "colab_type": "code",
        "colab": {
          "base_uri": "https://localhost:8080/",
          "height": 51
        },
        "outputId": "5a2f8e9d-674f-40cd-d4a4-8daba2909563"
      },
      "source": [
        "health_dt['education'].mode()"
      ],
      "execution_count": null,
      "outputs": [
        {
          "output_type": "execute_result",
          "data": {
            "text/plain": [
              "0    highschool\n",
              "dtype: object"
            ]
          },
          "metadata": {
            "tags": []
          },
          "execution_count": 80
        }
      ]
    },
    {
      "cell_type": "code",
      "metadata": {
        "id": "ZfKbehxvaJ8x",
        "colab_type": "code",
        "colab": {
          "base_uri": "https://localhost:8080/",
          "height": 34
        },
        "outputId": "71b0a03c-92ab-4a07-99ba-fb20eeb0d3eb"
      },
      "source": [
        "health_dt['age'].mean()"
      ],
      "execution_count": null,
      "outputs": [
        {
          "output_type": "execute_result",
          "data": {
            "text/plain": [
              "38.936832538059534"
            ]
          },
          "metadata": {
            "tags": []
          },
          "execution_count": 82
        }
      ]
    },
    {
      "cell_type": "code",
      "metadata": {
        "id": "_aGgAtCjaVye",
        "colab_type": "code",
        "colab": {
          "base_uri": "https://localhost:8080/",
          "height": 34
        },
        "outputId": "fe84ea43-4850-49a6-bd0f-4f6742725717"
      },
      "source": [
        "health_dt['age'].max()"
      ],
      "execution_count": null,
      "outputs": [
        {
          "output_type": "execute_result",
          "data": {
            "text/plain": [
              "62"
            ]
          },
          "metadata": {
            "tags": []
          },
          "execution_count": 81
        }
      ]
    },
    {
      "cell_type": "code",
      "metadata": {
        "id": "3yf-N6SgabB8",
        "colab_type": "code",
        "colab": {
          "base_uri": "https://localhost:8080/",
          "height": 34
        },
        "outputId": "c92db5b4-4c66-4640-c63a-696db0315ff2"
      },
      "source": [
        "health_dt['age'].min()"
      ],
      "execution_count": null,
      "outputs": [
        {
          "output_type": "execute_result",
          "data": {
            "text/plain": [
              "18"
            ]
          },
          "metadata": {
            "tags": []
          },
          "execution_count": 83
        }
      ]
    },
    {
      "cell_type": "code",
      "metadata": {
        "id": "0Ci7UAvmafWQ",
        "colab_type": "code",
        "colab": {
          "base_uri": "https://localhost:8080/",
          "height": 34
        },
        "outputId": "88c89be4-b55f-446f-9c0a-1c51ced0ad15"
      },
      "source": [
        "health_dt['family'].mean()"
      ],
      "execution_count": null,
      "outputs": [
        {
          "output_type": "execute_result",
          "data": {
            "text/plain": [
              "3.09350147693706"
            ]
          },
          "metadata": {
            "tags": []
          },
          "execution_count": 84
        }
      ]
    },
    {
      "cell_type": "code",
      "metadata": {
        "id": "dtrHbj5malua",
        "colab_type": "code",
        "colab": {
          "base_uri": "https://localhost:8080/",
          "height": 34
        },
        "outputId": "c7f9a2a5-e77d-4c5d-ff50-010c47ff8e13"
      },
      "source": [
        "health_dt['family'].max()"
      ],
      "execution_count": null,
      "outputs": [
        {
          "output_type": "execute_result",
          "data": {
            "text/plain": [
              "14"
            ]
          },
          "metadata": {
            "tags": []
          },
          "execution_count": 85
        }
      ]
    },
    {
      "cell_type": "code",
      "metadata": {
        "id": "dFPriSOrapvR",
        "colab_type": "code",
        "colab": {
          "base_uri": "https://localhost:8080/",
          "height": 34
        },
        "outputId": "6f081d56-51b7-40e5-d44f-a1f33e34b4ea"
      },
      "source": [
        "health_dt['family'].min()"
      ],
      "execution_count": null,
      "outputs": [
        {
          "output_type": "execute_result",
          "data": {
            "text/plain": [
              "1"
            ]
          },
          "metadata": {
            "tags": []
          },
          "execution_count": 86
        }
      ]
    },
    {
      "cell_type": "code",
      "metadata": {
        "id": "F3Kjkdokc88A",
        "colab_type": "code",
        "colab": {}
      },
      "source": [
        "%matplotlib inline"
      ],
      "execution_count": null,
      "outputs": []
    },
    {
      "cell_type": "code",
      "metadata": {
        "id": "bxQWHdrDdB4I",
        "colab_type": "code",
        "colab": {
          "base_uri": "https://localhost:8080/",
          "height": 332
        },
        "outputId": "a61b04c8-9f73-44d1-bca4-f619f5954462"
      },
      "source": [
        "new_health = health_dt.drop('Unnamed: 0', axis=1)\n",
        "new_health.hist()"
      ],
      "execution_count": null,
      "outputs": [
        {
          "output_type": "execute_result",
          "data": {
            "text/plain": [
              "array([[<matplotlib.axes._subplots.AxesSubplot object at 0x7efe9940c278>,\n",
              "        <matplotlib.axes._subplots.AxesSubplot object at 0x7efe99364588>]],\n",
              "      dtype=object)"
            ]
          },
          "metadata": {
            "tags": []
          },
          "execution_count": 8
        },
        {
          "output_type": "display_data",
          "data": {
            "image/png": "[encoded data removed]",
            "text/plain": [
              "<Figure size 432x288 with 2 Axes>"
            ]
          },
          "metadata": {
            "tags": [],
            "needs_background": "light"
          }
        }
      ]
    },
    {
      "cell_type": "code",
      "metadata": {
        "id": "hi2K57LTiekJ",
        "colab_type": "code",
        "colab": {
          "base_uri": "https://localhost:8080/",
          "height": 306
        },
        "outputId": "637f80fa-e360-4966-c598-bd71be75aa65"
      },
      "source": [
        "import matplotlib.pyplot as plot\n",
        "new_health = health_dt.drop(['Unnamed: 0', 'age', 'family'], axis=1)\n",
        "for i in range(1,7):\n",
        "    plot.subplot(1,6,i)\n",
        "    plot.title(new_health.columns[i-1])\n",
        "    plot.subplots_adjust(wspace=1, hspace=5)\n",
        "    new_health.iloc[:,i-1].value_counts().plot(kind='bar')"
      ],
      "execution_count": null,
      "outputs": [
        {
          "output_type": "display_data",
          "data": {
            "image/png": "[encoded data removed]",
            "text/plain": [
              "<Figure size 432x288 with 6 Axes>"
            ]
          },
          "metadata": {
            "tags": [],
            "needs_background": "light"
          }
        }
      ]
    },
    {
      "cell_type": "code",
      "metadata": {
        "id": "0CKx6naXKmbE",
        "colab_type": "code",
        "colab": {
          "base_uri": "https://localhost:8080/",
          "height": 325
        },
        "outputId": "17f5d42d-605c-427d-cda4-983e772c2bb4"
      },
      "source": [
        "import matplotlib.pyplot as plot\n",
        "new_health = health_dt.drop(['Unnamed: 0', 'age', 'family', 'health', 'limit', 'gender', 'insurance', 'married', 'selfemp'], axis=1)\n",
        "for i in range(1,4):\n",
        "    plot.subplot(1,3,i)\n",
        "    plot.title(new_health.columns[i-1])\n",
        "    plot.subplots_adjust(wspace=1, hspace=5)\n",
        "    new_health.iloc[:,i-1].value_counts().plot(kind='bar')"
      ],
      "execution_count": null,
      "outputs": [
        {
          "output_type": "display_data",
          "data": {
            "image/png": "[encoded data removed]",
            "text/plain": [
              "<Figure size 432x288 with 3 Axes>"
            ]
          },
          "metadata": {
            "tags": [],
            "needs_background": "light"
          }
        }
      ]
    },
    {
      "cell_type": "code",
      "metadata": {
        "id": "KPnx1Xtlqqfs",
        "colab_type": "code",
        "colab": {
          "base_uri": "https://localhost:8080/",
          "height": 419
        },
        "outputId": "8187576f-2874-4a70-cbc2-480c1cc4f2c6"
      },
      "source": [
        "import pandas\n",
        "\n",
        "drought_df = pandas.read_csv(notes_home+\"droughts.csv\")\n",
        "\n",
        "drought_df"
      ],
      "execution_count": null,
      "outputs": [
        {
          "output_type": "execute_result",
          "data": {
            "text/html": [
              "<div>\n",
              "<style scoped>\n",
              "    .dataframe tbody tr th:only-of-type {\n",
              "        vertical-align: middle;\n",
              "    }\n",
              "\n",
              "    .dataframe tbody tr th {\n",
              "        vertical-align: top;\n",
              "    }\n",
              "\n",
              "    .dataframe thead th {\n",
              "        text-align: right;\n",
              "    }\n",
              "</style>\n",
              "<table border=\"1\" class=\"dataframe\">\n",
              "  <thead>\n",
              "    <tr style=\"text-align: right;\">\n",
              "      <th></th>\n",
              "      <th>Unnamed: 0</th>\n",
              "      <th>length</th>\n",
              "      <th>year</th>\n",
              "    </tr>\n",
              "  </thead>\n",
              "  <tbody>\n",
              "    <tr>\n",
              "      <th>0</th>\n",
              "      <td>1</td>\n",
              "      <td>0.04</td>\n",
              "      <td>1960</td>\n",
              "    </tr>\n",
              "    <tr>\n",
              "      <th>1</th>\n",
              "      <td>2</td>\n",
              "      <td>27.67</td>\n",
              "      <td>1960</td>\n",
              "    </tr>\n",
              "    <tr>\n",
              "      <th>2</th>\n",
              "      <td>3</td>\n",
              "      <td>0.08</td>\n",
              "      <td>1960</td>\n",
              "    </tr>\n",
              "    <tr>\n",
              "      <th>3</th>\n",
              "      <td>4</td>\n",
              "      <td>0.54</td>\n",
              "      <td>1960</td>\n",
              "    </tr>\n",
              "    <tr>\n",
              "      <th>4</th>\n",
              "      <td>5</td>\n",
              "      <td>0.21</td>\n",
              "      <td>1960</td>\n",
              "    </tr>\n",
              "    <tr>\n",
              "      <th>...</th>\n",
              "      <td>...</td>\n",
              "      <td>...</td>\n",
              "      <td>...</td>\n",
              "    </tr>\n",
              "    <tr>\n",
              "      <th>2037</th>\n",
              "      <td>2038</td>\n",
              "      <td>0.08</td>\n",
              "      <td>1980</td>\n",
              "    </tr>\n",
              "    <tr>\n",
              "      <th>2038</th>\n",
              "      <td>2039</td>\n",
              "      <td>0.08</td>\n",
              "      <td>1980</td>\n",
              "    </tr>\n",
              "    <tr>\n",
              "      <th>2039</th>\n",
              "      <td>2040</td>\n",
              "      <td>0.04</td>\n",
              "      <td>1980</td>\n",
              "    </tr>\n",
              "    <tr>\n",
              "      <th>2040</th>\n",
              "      <td>2041</td>\n",
              "      <td>0.29</td>\n",
              "      <td>1980</td>\n",
              "    </tr>\n",
              "    <tr>\n",
              "      <th>2041</th>\n",
              "      <td>2042</td>\n",
              "      <td>16.25</td>\n",
              "      <td>1980</td>\n",
              "    </tr>\n",
              "  </tbody>\n",
              "</table>\n",
              "<p>2042 rows × 3 columns</p>\n",
              "</div>"
            ],
            "text/plain": [
              "      Unnamed: 0  length  year\n",
              "0              1    0.04  1960\n",
              "1              2   27.67  1960\n",
              "2              3    0.08  1960\n",
              "3              4    0.54  1960\n",
              "4              5    0.21  1960\n",
              "...          ...     ...   ...\n",
              "2037        2038    0.08  1980\n",
              "2038        2039    0.08  1980\n",
              "2039        2040    0.04  1980\n",
              "2040        2041    0.29  1980\n",
              "2041        2042   16.25  1980\n",
              "\n",
              "[2042 rows x 3 columns]"
            ]
          },
          "metadata": {
            "tags": []
          },
          "execution_count": 90
        }
      ]
    },
    {
      "cell_type": "markdown",
      "metadata": {
        "id": "uLKyqaKjwd19",
        "colab_type": "text"
      },
      "source": [
        "This data set has 2042 rows and 3 columns. One of the columns doesn't give us any info as it is just used to give a number to the drought to help identify them. The length column is numerical and the year column is categorical."
      ]
    },
    {
      "cell_type": "code",
      "metadata": {
        "id": "4BgyuAVXxBY2",
        "colab_type": "code",
        "colab": {
          "base_uri": "https://localhost:8080/",
          "height": 34
        },
        "outputId": "093ff529-74dc-4806-a34d-d56bac8741ff"
      },
      "source": [
        "drought_df['length'].mean()"
      ],
      "execution_count": null,
      "outputs": [
        {
          "output_type": "execute_result",
          "data": {
            "text/plain": [
              "1.99024485798236"
            ]
          },
          "metadata": {
            "tags": []
          },
          "execution_count": 91
        }
      ]
    },
    {
      "cell_type": "code",
      "metadata": {
        "id": "xwWrawTxxltQ",
        "colab_type": "code",
        "colab": {
          "base_uri": "https://localhost:8080/",
          "height": 34
        },
        "outputId": "64486857-63d4-4b41-efcb-a7daaa27af32"
      },
      "source": [
        "drought_df['length'].max()"
      ],
      "execution_count": null,
      "outputs": [
        {
          "output_type": "execute_result",
          "data": {
            "text/plain": [
              "29.21"
            ]
          },
          "metadata": {
            "tags": []
          },
          "execution_count": 92
        }
      ]
    },
    {
      "cell_type": "code",
      "metadata": {
        "id": "9dyUuxsxzrGM",
        "colab_type": "code",
        "colab": {
          "base_uri": "https://localhost:8080/",
          "height": 34
        },
        "outputId": "cdcacb0c-50a3-40c9-a41a-f3a9a9903843"
      },
      "source": [
        "drought_df['length'].min()"
      ],
      "execution_count": null,
      "outputs": [
        {
          "output_type": "execute_result",
          "data": {
            "text/plain": [
              "0.04"
            ]
          },
          "metadata": {
            "tags": []
          },
          "execution_count": 93
        }
      ]
    },
    {
      "cell_type": "code",
      "metadata": {
        "id": "2JwIu87qzveH",
        "colab_type": "code",
        "colab": {
          "base_uri": "https://localhost:8080/",
          "height": 51
        },
        "outputId": "f4cb2a68-ec18-46d6-b57c-6bc6ae1b70c7"
      },
      "source": [
        "drought_df['year'].mode()"
      ],
      "execution_count": null,
      "outputs": [
        {
          "output_type": "execute_result",
          "data": {
            "text/plain": [
              "0    1977\n",
              "dtype: int64"
            ]
          },
          "metadata": {
            "tags": []
          },
          "execution_count": 94
        }
      ]
    },
    {
      "cell_type": "code",
      "metadata": {
        "id": "IAOGUEcd0BTq",
        "colab_type": "code",
        "colab": {
          "base_uri": "https://localhost:8080/",
          "height": 315
        },
        "outputId": "c5ae1e57-5e57-4bad-cee7-d64694e8a241"
      },
      "source": [
        "new_drought_df = drought_df.drop(['Unnamed: 0','year'], axis = 1)\n",
        "new_drought_df.hist()"
      ],
      "execution_count": null,
      "outputs": [
        {
          "output_type": "execute_result",
          "data": {
            "text/plain": [
              "array([[<matplotlib.axes._subplots.AxesSubplot object at 0x7fa73869a7f0>]],\n",
              "      dtype=object)"
            ]
          },
          "metadata": {
            "tags": []
          },
          "execution_count": 99
        },
        {
          "output_type": "display_data",
          "data": {
            "image/png": "[encoded data removed]",
            "text/plain": [
              "<Figure size 432x288 with 1 Axes>"
            ]
          },
          "metadata": {
            "tags": [],
            "needs_background": "light"
          }
        }
      ]
    },
    {
      "cell_type": "code",
      "metadata": {
        "id": "R-PIs7JD1SFF",
        "colab_type": "code",
        "colab": {
          "base_uri": "https://localhost:8080/",
          "height": 297
        },
        "outputId": "b4dfa807-e0c9-42e2-e8dd-541fb0eb91f4"
      },
      "source": [
        "import matplotlib.pyplot as plot\n",
        "new_drought_df = drought_df.drop(['Unnamed: 0', 'length'], axis=1)\n",
        "for i in range(1):\n",
        "    plot.title(new_drought_df.columns[i-1])\n",
        "    new_drought_df.iloc[:,i-1].value_counts().plot(kind='bar')"
      ],
      "execution_count": null,
      "outputs": [
        {
          "output_type": "display_data",
          "data": {
            "image/png": "[encoded data removed]",
            "text/plain": [
              "<Figure size 432x288 with 1 Axes>"
            ]
          },
          "metadata": {
            "tags": [],
            "needs_background": "light"
          }
        }
      ]
    }
  ]
}